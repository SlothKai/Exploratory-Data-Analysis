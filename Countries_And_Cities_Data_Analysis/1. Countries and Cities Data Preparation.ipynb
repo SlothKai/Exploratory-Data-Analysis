{
 "cells": [
  {
   "cell_type": "markdown",
   "metadata": {},
   "source": [
    "### I have no idea what this data details and what kind of insights I could gather from this. Lets explore shall we"
   ]
  },
  {
   "cell_type": "code",
   "execution_count": 1,
   "metadata": {},
   "outputs": [],
   "source": [
    "import pandas as pd\n",
    "import matplotlib.pyplot as plt"
   ]
  },
  {
   "cell_type": "markdown",
   "metadata": {},
   "source": [
    "### Excel file has two sheets, facts and cities. Lets do some exploration"
   ]
  },
  {
   "cell_type": "code",
   "execution_count": 2,
   "metadata": {},
   "outputs": [
    {
     "name": "stdout",
     "output_type": "stream",
     "text": [
      "['facts', 'cities']\n"
     ]
    }
   ],
   "source": [
    "df = pd.ExcelFile('countries_cities_data.xlsx')\n",
    "sheet_names = df.sheet_names\n",
    "print(sheet_names)"
   ]
  },
  {
   "cell_type": "code",
   "execution_count": 3,
   "metadata": {},
   "outputs": [
    {
     "name": "stdout",
     "output_type": "stream",
     "text": [
      "<class 'pandas.core.frame.DataFrame'>\n",
      "RangeIndex: 261 entries, 0 to 260\n",
      "Data columns (total 11 columns):\n",
      " #   Column             Non-Null Count  Dtype  \n",
      "---  ------             --------------  -----  \n",
      " 0   id                 261 non-null    int64  \n",
      " 1   code               261 non-null    object \n",
      " 2   name               261 non-null    object \n",
      " 3   area               249 non-null    float64\n",
      " 4   area_land          246 non-null    float64\n",
      " 5   area_water         243 non-null    float64\n",
      " 6   population         242 non-null    float64\n",
      " 7   population_growth  236 non-null    float64\n",
      " 8   birth_rate         228 non-null    float64\n",
      " 9   death_rate         228 non-null    float64\n",
      " 10  migration_rate     223 non-null    float64\n",
      "dtypes: float64(8), int64(1), object(2)\n",
      "memory usage: 22.6+ KB\n",
      "None\n"
     ]
    }
   ],
   "source": [
    "df = pd.read_excel('countries_cities_data.xlsx', sheet_name=None)\n",
    "df_facts = df['facts']\n",
    "df_cities = df['cities']\n",
    "\n",
    "print(df_facts.info())"
   ]
  },
  {
   "cell_type": "code",
   "execution_count": 4,
   "metadata": {},
   "outputs": [
    {
     "name": "stdout",
     "output_type": "stream",
     "text": [
      "<class 'pandas.core.frame.DataFrame'>\n",
      "RangeIndex: 397 entries, 0 to 396\n",
      "Data columns (total 6 columns):\n",
      " #   Column      Non-Null Count  Dtype \n",
      "---  ------      --------------  ----- \n",
      " 0   id          397 non-null    int64 \n",
      " 1   name        397 non-null    object\n",
      " 2   population  397 non-null    int64 \n",
      " 3   capital     397 non-null    int64 \n",
      " 4   facts_id    397 non-null    int64 \n",
      " 5   gdp         397 non-null    int64 \n",
      "dtypes: int64(5), object(1)\n",
      "memory usage: 18.7+ KB\n",
      "None\n"
     ]
    }
   ],
   "source": [
    "print(df_cities.info())"
   ]
  },
  {
   "cell_type": "code",
   "execution_count": 5,
   "metadata": {},
   "outputs": [
    {
     "name": "stdout",
     "output_type": "stream",
     "text": [
      "   id code         name       area  area_land  area_water  population  \\\n",
      "0   1   af  Afghanistan   652230.0   652230.0         0.0  32564342.0   \n",
      "1   2   al      Albania    28748.0    27398.0      1350.0   3029278.0   \n",
      "2   3   ag      Algeria  2381741.0  2381741.0         0.0  39542166.0   \n",
      "3   4   an      Andorra      468.0      468.0         0.0     85580.0   \n",
      "4   5   ao       Angola  1246700.0  1246700.0         0.0  19625353.0   \n",
      "\n",
      "   population_growth  birth_rate  death_rate  migration_rate  \n",
      "0               2.32       38.57       13.89            1.51  \n",
      "1               0.30       12.92        6.58            3.30  \n",
      "2               1.84       23.67        4.31            0.92  \n",
      "3               0.12        8.13        6.96            0.00  \n",
      "4               2.78       38.78       11.49            0.46  \n"
     ]
    }
   ],
   "source": [
    "print(df_facts.head())"
   ]
  },
  {
   "cell_type": "code",
   "execution_count": 6,
   "metadata": {},
   "outputs": [
    {
     "name": "stdout",
     "output_type": "stream",
     "text": [
      "   id              name  population  capital  facts_id    gdp\n",
      "0   6             Kabul     3097000        1         1  12273\n",
      "1  10            Tirana      419000        1         2  13232\n",
      "2   7           Algiers     2916000        1         3  12734\n",
      "3   8              Oran      783000        0         3  12828\n",
      "4  12  Andorra La Vella       23000        1         4   1675\n"
     ]
    }
   ],
   "source": [
    "print(df_cities.head())"
   ]
  },
  {
   "cell_type": "markdown",
   "metadata": {},
   "source": [
    "### From the sort, i can tell that the ids of both sheets are not related (not a primary key), however it would seem that the facts_id in df_cities is the foreign key for df_facts."
   ]
  },
  {
   "cell_type": "code",
   "execution_count": 7,
   "metadata": {},
   "outputs": [
    {
     "name": "stdout",
     "output_type": "stream",
     "text": [
      "     id          name  population  capital  facts_id   gdp\n",
      "382   1    Oranjestad       37000        1       216  5527\n",
      "7     2  Saint John'S       27000        1         6  5549\n",
      "344   3     Abu Dhabi      942000        1       184  4219\n",
      "345   4         Dubai     1978000        0       184  6309\n",
      "346   5       Sharjah      983000        0       184  6519\n"
     ]
    }
   ],
   "source": [
    "df_cities.sort_values(by='id', ascending=True, inplace=True)\n",
    "print(df_cities.head())"
   ]
  },
  {
   "cell_type": "markdown",
   "metadata": {},
   "source": [
    "### No Null values"
   ]
  },
  {
   "cell_type": "code",
   "execution_count": 8,
   "metadata": {},
   "outputs": [
    {
     "name": "stdout",
     "output_type": "stream",
     "text": [
      "id            0\n",
      "name          0\n",
      "population    0\n",
      "capital       0\n",
      "facts_id      0\n",
      "gdp           0\n",
      "dtype: int64\n"
     ]
    }
   ],
   "source": [
    "null_values = df_cities.isnull().sum()\n",
    "print(null_values)"
   ]
  },
  {
   "cell_type": "markdown",
   "metadata": {},
   "source": [
    "### No duplicates"
   ]
  },
  {
   "cell_type": "code",
   "execution_count": 9,
   "metadata": {},
   "outputs": [
    {
     "name": "stdout",
     "output_type": "stream",
     "text": [
      "0\n"
     ]
    }
   ],
   "source": [
    "duplicates = df_cities.duplicated().sum()\n",
    "print(duplicates)"
   ]
  },
  {
   "cell_type": "markdown",
   "metadata": {},
   "source": [
    "### No population below 0 and data type is int"
   ]
  },
  {
   "cell_type": "code",
   "execution_count": 10,
   "metadata": {},
   "outputs": [
    {
     "name": "stdout",
     "output_type": "stream",
     "text": [
      "Empty DataFrame\n",
      "Columns: [id, name, population, capital, facts_id, gdp]\n",
      "Index: []\n"
     ]
    }
   ],
   "source": [
    "invalid_population = df_cities[~df_cities['population'].apply(lambda x: isinstance(x, int) and x >= 0)]\n",
    "print(invalid_population)"
   ]
  },
  {
   "cell_type": "markdown",
   "metadata": {},
   "source": [
    "### Probably shows if the city is a capital of the country (fact_id) or not. \n",
    "* 1 being yes and 0 being no"
   ]
  },
  {
   "cell_type": "code",
   "execution_count": 11,
   "metadata": {},
   "outputs": [
    {
     "name": "stdout",
     "output_type": "stream",
     "text": [
      "capital\n",
      "1    208\n",
      "0    189\n",
      "Name: count, dtype: int64\n"
     ]
    }
   ],
   "source": [
    "print(df_cities['capital'].value_counts())"
   ]
  },
  {
   "cell_type": "markdown",
   "metadata": {},
   "source": [
    "# Now we do the same for df_facts"
   ]
  },
  {
   "cell_type": "markdown",
   "metadata": {},
   "source": [
    "### No duplicated values"
   ]
  },
  {
   "cell_type": "code",
   "execution_count": 12,
   "metadata": {},
   "outputs": [
    {
     "name": "stdout",
     "output_type": "stream",
     "text": [
      "0\n"
     ]
    }
   ],
   "source": [
    "duplicated_facts = df_facts.duplicated().sum()\n",
    "print(duplicated_facts)"
   ]
  },
  {
   "cell_type": "markdown",
   "metadata": {},
   "source": [
    "1. area being 0 is kinda odd.\n",
    "2. area_land and area_water being 0 could jus mean that they have no land nor water (makes sense for water but land need to think abit more)\n",
    "3. The rest being 0 does not really make sense\n",
    "4. For population, we could get some details from the cities sheet."
   ]
  },
  {
   "cell_type": "code",
   "execution_count": 13,
   "metadata": {},
   "outputs": [
    {
     "name": "stdout",
     "output_type": "stream",
     "text": [
      "id                    0\n",
      "code                  0\n",
      "name                  0\n",
      "area                 12\n",
      "area_land            15\n",
      "area_water           18\n",
      "population           19\n",
      "population_growth    25\n",
      "birth_rate           33\n",
      "death_rate           33\n",
      "migration_rate       38\n",
      "dtype: int64\n"
     ]
    }
   ],
   "source": [
    "null_facts = df_facts.isnull().sum()\n",
    "print(null_facts)\n"
   ]
  },
  {
   "cell_type": "code",
   "execution_count": 14,
   "metadata": {},
   "outputs": [
    {
     "name": "stdout",
     "output_type": "stream",
     "text": [
      "test\n",
      "True     239\n",
      "False     22\n",
      "Name: count, dtype: int64\n"
     ]
    }
   ],
   "source": [
    "test_facts = df_facts.copy()\n",
    "test_facts['area_test'] = test_facts['area_land'] + test_facts['area_water']\n",
    "test_facts['test'] = test_facts['area_test'] == test_facts['area']\n",
    "print(test_facts['test'].value_counts())"
   ]
  },
  {
   "cell_type": "markdown",
   "metadata": {},
   "source": [
    "### The reason for some of the False values is because of mismatched typed. int + NaN = NaN. So i should had transformed NaN to int 0 or float first before doing the addition and checks"
   ]
  },
  {
   "cell_type": "code",
   "execution_count": 15,
   "metadata": {},
   "outputs": [
    {
     "name": "stdout",
     "output_type": "stream",
     "text": [
      "      id code                                           name       area  \\\n",
      "34    35   cd                                           Chad        NaN   \n",
      "57    58   et                                       Ethiopia  1104300.0   \n",
      "125  126   nz                                    New Zealand   267710.0   \n",
      "127  128   ng                                          Niger        NaN   \n",
      "161  162   od                                    South Sudan   644329.0   \n",
      "164  165   su                                          Sudan  1861484.0   \n",
      "196  197   ee                                 European Union  4324782.0   \n",
      "206  207   gl                                      Greenland  2166086.0   \n",
      "209  210   fs            French Southern and Antarctic Lands        NaN   \n",
      "211  212   tb                               Saint Barthelemy        NaN   \n",
      "212  213   rn                                   Saint Martin       54.0   \n",
      "224  225   ax                                       Akrotiri      123.0   \n",
      "230  231   dx                                       Dhekelia      130.0   \n",
      "238  239   sh  Saint Helena, Ascension, and Tristan da Cunha      308.0   \n",
      "248  249   um  United States Pacific Island Wildlife Refuges        NaN   \n",
      "249  250   ay                                     Antarctica        NaN   \n",
      "255  256   xq                                   Arctic Ocean        NaN   \n",
      "256  257   zh                                 Atlantic Ocean        NaN   \n",
      "257  258   xo                                   Indian Ocean        NaN   \n",
      "258  259   zn                                  Pacific Ocean        NaN   \n",
      "259  260   oo                                 Southern Ocean        NaN   \n",
      "260  261   xx                                          World        NaN   \n",
      "\n",
      "     area_land  area_water    population  population_growth  birth_rate  \\\n",
      "34   1259200.0     24800.0  1.163146e+07               1.89       36.60   \n",
      "57         NaN    104300.0  9.946582e+07               2.89       37.27   \n",
      "125   267710.0         NaN  4.438393e+06               0.82       13.33   \n",
      "127  1266700.0       300.0  1.804573e+07               3.25       45.45   \n",
      "161        NaN         NaN  1.204291e+07               4.02       36.91   \n",
      "164        NaN         NaN  3.610885e+07               1.72       29.19   \n",
      "196        NaN         NaN  5.140000e+08               0.25       10.20   \n",
      "206  2166086.0         NaN  5.773300e+04               0.00       14.48   \n",
      "209        NaN         NaN           NaN                NaN         NaN   \n",
      "211        NaN         NaN  7.237000e+03                NaN         NaN   \n",
      "212       54.0         NaN  3.175400e+04                NaN         NaN   \n",
      "224        NaN         NaN  1.570000e+04                NaN         NaN   \n",
      "230        NaN         NaN  1.570000e+04                NaN         NaN   \n",
      "238      122.0         0.0  7.795000e+03               0.24        9.88   \n",
      "248        NaN         NaN           NaN                NaN         NaN   \n",
      "249   280000.0         NaN  0.000000e+00                NaN         NaN   \n",
      "255        NaN         NaN           NaN                NaN         NaN   \n",
      "256        NaN         NaN           NaN                NaN         NaN   \n",
      "257        NaN         NaN           NaN                NaN         NaN   \n",
      "258        NaN         NaN           NaN                NaN         NaN   \n",
      "259        NaN         NaN           NaN                NaN         NaN   \n",
      "260        NaN         NaN  7.260000e+09               1.08       18.60   \n",
      "\n",
      "     death_rate  migration_rate  area_test   test  \n",
      "34        14.28            3.45  1284000.0  False  \n",
      "57         8.19            0.22        NaN  False  \n",
      "125        7.36            2.21        NaN  False  \n",
      "127       12.42            0.56  1267000.0  False  \n",
      "161        8.18           11.47        NaN  False  \n",
      "164        7.66            4.29        NaN  False  \n",
      "196       10.20            2.50        NaN  False  \n",
      "206        8.49            5.98        NaN  False  \n",
      "209         NaN             NaN        NaN  False  \n",
      "211         NaN             NaN        NaN  False  \n",
      "212         NaN             NaN        NaN  False  \n",
      "224         NaN             NaN        NaN  False  \n",
      "230         NaN             NaN        NaN  False  \n",
      "238        7.44            0.00      122.0  False  \n",
      "248         NaN             NaN        NaN  False  \n",
      "249         NaN             NaN        NaN  False  \n",
      "255         NaN             NaN        NaN  False  \n",
      "256         NaN             NaN        NaN  False  \n",
      "257         NaN             NaN        NaN  False  \n",
      "258         NaN             NaN        NaN  False  \n",
      "259         NaN             NaN        NaN  False  \n",
      "260        7.80             NaN        NaN  False  \n"
     ]
    }
   ],
   "source": [
    "print(test_facts[test_facts['test'] == False])"
   ]
  },
  {
   "cell_type": "code",
   "execution_count": 16,
   "metadata": {},
   "outputs": [
    {
     "name": "stdout",
     "output_type": "stream",
     "text": [
      "test\n",
      "True     251\n",
      "False     10\n",
      "Name: count, dtype: int64\n"
     ]
    }
   ],
   "source": [
    "test_facts.drop(columns=['area_test', 'test'], inplace=True)\n",
    "test_facts = test_facts.fillna(0.0)\n",
    "test_facts['area_test'] = test_facts['area_land'] + test_facts['area_water']\n",
    "test_facts['test'] = test_facts['area_test'] == test_facts['area']\n",
    "print(test_facts['test'].value_counts())"
   ]
  },
  {
   "cell_type": "markdown",
   "metadata": {},
   "source": [
    "### A few things are happening\n",
    "1. area is 0 but there are area_land and area_water data\n",
    "2. There is area value, and either area_land or area_water are 0, and area != either area_land/area_water values\n",
    "3. There is area value and both area_land and area_water are 0, in this case I cant do anything about it \n",
    "### For points 1 and 2, I can do something about"
   ]
  },
  {
   "cell_type": "code",
   "execution_count": 17,
   "metadata": {},
   "outputs": [
    {
     "name": "stdout",
     "output_type": "stream",
     "text": [
      "      id code                                           name       area  \\\n",
      "34    35   cd                                           Chad        0.0   \n",
      "57    58   et                                       Ethiopia  1104300.0   \n",
      "127  128   ng                                          Niger        0.0   \n",
      "161  162   od                                    South Sudan   644329.0   \n",
      "164  165   su                                          Sudan  1861484.0   \n",
      "196  197   ee                                 European Union  4324782.0   \n",
      "224  225   ax                                       Akrotiri      123.0   \n",
      "230  231   dx                                       Dhekelia      130.0   \n",
      "238  239   sh  Saint Helena, Ascension, and Tristan da Cunha      308.0   \n",
      "249  250   ay                                     Antarctica        0.0   \n",
      "\n",
      "     area_land  area_water   population  population_growth  birth_rate  \\\n",
      "34   1259200.0     24800.0   11631456.0               1.89       36.60   \n",
      "57         0.0    104300.0   99465819.0               2.89       37.27   \n",
      "127  1266700.0       300.0   18045729.0               3.25       45.45   \n",
      "161        0.0         0.0   12042910.0               4.02       36.91   \n",
      "164        0.0         0.0   36108853.0               1.72       29.19   \n",
      "196        0.0         0.0  514000000.0               0.25       10.20   \n",
      "224        0.0         0.0      15700.0               0.00        0.00   \n",
      "230        0.0         0.0      15700.0               0.00        0.00   \n",
      "238      122.0         0.0       7795.0               0.24        9.88   \n",
      "249   280000.0         0.0          0.0               0.00        0.00   \n",
      "\n",
      "     death_rate  migration_rate  area_test   test  \n",
      "34        14.28            3.45  1284000.0  False  \n",
      "57         8.19            0.22   104300.0  False  \n",
      "127       12.42            0.56  1267000.0  False  \n",
      "161        8.18           11.47        0.0  False  \n",
      "164        7.66            4.29        0.0  False  \n",
      "196       10.20            2.50        0.0  False  \n",
      "224        0.00            0.00        0.0  False  \n",
      "230        0.00            0.00        0.0  False  \n",
      "238        7.44            0.00      122.0  False  \n",
      "249        0.00            0.00   280000.0  False  \n"
     ]
    }
   ],
   "source": [
    "print(test_facts[test_facts['test'] == False])"
   ]
  },
  {
   "cell_type": "code",
   "execution_count": 18,
   "metadata": {},
   "outputs": [],
   "source": [
    "test_facts.loc[(test_facts['area'] == 0) & (test_facts['area_land'] != 0) & (\n",
    "    test_facts['area_water'] != 0), 'area'] = test_facts['area_land'] + test_facts['area_water'] # area = land + water\n",
    "test_facts.loc[(test_facts['area'] == 0) & (\n",
    "    test_facts['area_land'] != 0) & (test_facts['area_water'] == 0), 'area'] = test_facts['area_land'] # area = land\n",
    "test_facts.loc[(test_facts['area'] == 0) & (test_facts['area_land'] == 0) & (\n",
    "    test_facts['area_water'] != 0), 'area'] = test_facts['area_water']  # area = water\n",
    "test_facts.loc[(test_facts['area'] != 0) & (test_facts['area_land'] == 0) & (\n",
    "    test_facts['area_water'] != 0) & (test_facts['area'] > test_facts['area_water']), 'area_land'] = test_facts['area'] - test_facts['area_water']  # land = area - water\n",
    "test_facts.loc[(test_facts['area'] != 0) & (test_facts['area_land'] != 0) & (\n",
    "    test_facts['area_water'] == 0) & (test_facts['area'] > test_facts['area_land']), 'area_water'] = test_facts['area'] - test_facts['area_land'] # water = area - land"
   ]
  },
  {
   "cell_type": "markdown",
   "metadata": {},
   "source": [
    "### Checking again after fixing the values"
   ]
  },
  {
   "cell_type": "code",
   "execution_count": 19,
   "metadata": {},
   "outputs": [
    {
     "name": "stdout",
     "output_type": "stream",
     "text": [
      "test\n",
      "True     256\n",
      "False      5\n",
      "Name: count, dtype: int64\n"
     ]
    }
   ],
   "source": [
    "test_facts.drop(columns=['area_test', 'test'], inplace=True)\n",
    "# test_facts = test_facts.fillna(0.0)\n",
    "test_facts['area_test'] = test_facts['area_land'] + test_facts['area_water']\n",
    "test_facts['test'] = test_facts['area_test'] == test_facts['area']\n",
    "print(test_facts['test'].value_counts())"
   ]
  },
  {
   "cell_type": "markdown",
   "metadata": {},
   "source": [
    "### Well I cant do much about that unless i look for sources online... so on to the next part"
   ]
  },
  {
   "cell_type": "code",
   "execution_count": 20,
   "metadata": {},
   "outputs": [
    {
     "name": "stdout",
     "output_type": "stream",
     "text": [
      "      id code            name       area  area_land  area_water   population  \\\n",
      "161  162   od     South Sudan   644329.0        0.0         0.0   12042910.0   \n",
      "164  165   su           Sudan  1861484.0        0.0         0.0   36108853.0   \n",
      "196  197   ee  European Union  4324782.0        0.0         0.0  514000000.0   \n",
      "224  225   ax        Akrotiri      123.0        0.0         0.0      15700.0   \n",
      "230  231   dx        Dhekelia      130.0        0.0         0.0      15700.0   \n",
      "\n",
      "     population_growth  birth_rate  death_rate  migration_rate  area_test  \\\n",
      "161               4.02       36.91        8.18           11.47        0.0   \n",
      "164               1.72       29.19        7.66            4.29        0.0   \n",
      "196               0.25       10.20       10.20            2.50        0.0   \n",
      "224               0.00        0.00        0.00            0.00        0.0   \n",
      "230               0.00        0.00        0.00            0.00        0.0   \n",
      "\n",
      "      test  \n",
      "161  False  \n",
      "164  False  \n",
      "196  False  \n",
      "224  False  \n",
      "230  False  \n"
     ]
    }
   ],
   "source": [
    "print(test_facts[test_facts['test'] == False])"
   ]
  },
  {
   "cell_type": "code",
   "execution_count": 21,
   "metadata": {},
   "outputs": [
    {
     "name": "stdout",
     "output_type": "stream",
     "text": [
      "<class 'pandas.core.frame.DataFrame'>\n",
      "RangeIndex: 261 entries, 0 to 260\n",
      "Data columns (total 11 columns):\n",
      " #   Column             Non-Null Count  Dtype  \n",
      "---  ------             --------------  -----  \n",
      " 0   id                 261 non-null    int64  \n",
      " 1   code               261 non-null    object \n",
      " 2   name               261 non-null    object \n",
      " 3   area               261 non-null    float64\n",
      " 4   area_land          261 non-null    float64\n",
      " 5   area_water         261 non-null    float64\n",
      " 6   population         261 non-null    float64\n",
      " 7   population_growth  261 non-null    float64\n",
      " 8   birth_rate         261 non-null    float64\n",
      " 9   death_rate         261 non-null    float64\n",
      " 10  migration_rate     261 non-null    float64\n",
      "dtypes: float64(8), int64(1), object(2)\n",
      "memory usage: 22.6+ KB\n",
      "None\n"
     ]
    }
   ],
   "source": [
    "df_facts.update(test_facts)\n",
    "print(df_facts.info())"
   ]
  },
  {
   "cell_type": "markdown",
   "metadata": {},
   "source": [
    "### Fact checking population size, cities against facts sheet"
   ]
  },
  {
   "cell_type": "code",
   "execution_count": 22,
   "metadata": {},
   "outputs": [
    {
     "name": "stdout",
     "output_type": "stream",
     "text": [
      "   facts_id  population\n",
      "0         1     3097000\n",
      "1         2      419000\n",
      "2         3     3699000\n",
      "3         4       23000\n",
      "4         5     6166000\n"
     ]
    }
   ],
   "source": [
    "cities_groupby = df_cities.groupby('facts_id', as_index=False).agg({'population': 'sum'})\n",
    "print(cities_groupby.head())"
   ]
  },
  {
   "cell_type": "markdown",
   "metadata": {},
   "source": [
    "### This shows that likely not every city is in the cities sheet. We need to take note of this\n",
    "##### Need to consider what percentage of population is accounted for, for the data to be relevant and trustworthy"
   ]
  },
  {
   "cell_type": "code",
   "execution_count": 23,
   "metadata": {},
   "outputs": [
    {
     "data": {
      "text/html": [
       "<div>\n",
       "<style scoped>\n",
       "    .dataframe tbody tr th:only-of-type {\n",
       "        vertical-align: middle;\n",
       "    }\n",
       "\n",
       "    .dataframe tbody tr th {\n",
       "        vertical-align: top;\n",
       "    }\n",
       "\n",
       "    .dataframe thead th {\n",
       "        text-align: right;\n",
       "    }\n",
       "</style>\n",
       "<table border=\"1\" class=\"dataframe\">\n",
       "  <thead>\n",
       "    <tr style=\"text-align: right;\">\n",
       "      <th></th>\n",
       "      <th>facts_id</th>\n",
       "      <th>population</th>\n",
       "    </tr>\n",
       "  </thead>\n",
       "  <tbody>\n",
       "    <tr>\n",
       "      <th>0</th>\n",
       "      <td>1</td>\n",
       "      <td>3097000</td>\n",
       "    </tr>\n",
       "    <tr>\n",
       "      <th>1</th>\n",
       "      <td>2</td>\n",
       "      <td>419000</td>\n",
       "    </tr>\n",
       "    <tr>\n",
       "      <th>2</th>\n",
       "      <td>3</td>\n",
       "      <td>3699000</td>\n",
       "    </tr>\n",
       "    <tr>\n",
       "      <th>3</th>\n",
       "      <td>4</td>\n",
       "      <td>23000</td>\n",
       "    </tr>\n",
       "    <tr>\n",
       "      <th>4</th>\n",
       "      <td>5</td>\n",
       "      <td>6166000</td>\n",
       "    </tr>\n",
       "    <tr>\n",
       "      <th>...</th>\n",
       "      <td>...</td>\n",
       "      <td>...</td>\n",
       "    </tr>\n",
       "    <tr>\n",
       "      <th>205</th>\n",
       "      <td>243</td>\n",
       "      <td>169000</td>\n",
       "    </tr>\n",
       "    <tr>\n",
       "      <th>206</th>\n",
       "      <td>245</td>\n",
       "      <td>56000</td>\n",
       "    </tr>\n",
       "    <tr>\n",
       "      <th>207</th>\n",
       "      <td>246</td>\n",
       "      <td>2475000</td>\n",
       "    </tr>\n",
       "    <tr>\n",
       "      <th>208</th>\n",
       "      <td>247</td>\n",
       "      <td>60000</td>\n",
       "    </tr>\n",
       "    <tr>\n",
       "      <th>209</th>\n",
       "      <td>255</td>\n",
       "      <td>237000</td>\n",
       "    </tr>\n",
       "  </tbody>\n",
       "</table>\n",
       "<p>210 rows × 2 columns</p>\n",
       "</div>"
      ],
      "text/plain": [
       "     facts_id  population\n",
       "0           1     3097000\n",
       "1           2      419000\n",
       "2           3     3699000\n",
       "3           4       23000\n",
       "4           5     6166000\n",
       "..        ...         ...\n",
       "205       243      169000\n",
       "206       245       56000\n",
       "207       246     2475000\n",
       "208       247       60000\n",
       "209       255      237000\n",
       "\n",
       "[210 rows x 2 columns]"
      ]
     },
     "execution_count": 23,
     "metadata": {},
     "output_type": "execute_result"
    }
   ],
   "source": [
    "for i in range(1, len(df_facts)): \n",
    "    try: \n",
    "        country_population = df_facts.loc[(df_facts['id'] == i), 'population']\n",
    "        cities_population = cities_groupby.loc[(cities_groupby['facts_id'] == i), 'population']\n",
    "        if (country_population.equals(cities_population)):\n",
    "            cities_groupby.drop(i, inplace=True)\n",
    "    except:\n",
    "        continue\n",
    "cities_groupby"
   ]
  },
  {
   "cell_type": "markdown",
   "metadata": {},
   "source": [
    "### How it looks like in excel, at this point if you would like to take a look"
   ]
  },
  {
   "cell_type": "code",
   "execution_count": 24,
   "metadata": {},
   "outputs": [],
   "source": [
    "with pd.ExcelWriter('cleaned_countries__cities_dataset.xlsx') as writer:\n",
    "    # Write df_facts to the first sheet\n",
    "    df_facts.to_excel(writer, sheet_name='Facts', index=False)\n",
    "\n",
    "    # Write df_cities to the second sheet\n",
    "    df_cities.to_excel(writer, sheet_name='Cities', index=False)"
   ]
  },
  {
   "cell_type": "code",
   "execution_count": 25,
   "metadata": {},
   "outputs": [],
   "source": [
    "df_new = pd.merge(df_facts, df_cities, how='left', left_on='id', right_on='facts_id')\n",
    "df_new = df_new.rename(columns={\n",
    "    'id_x': 'country_id',\n",
    "    'name_x': 'country_name',\n",
    "    'population_x': 'country_population',\n",
    "    'id_y': 'city_id',\n",
    "    'name_y': 'city_name',\n",
    "    'population_y': 'city_population'\n",
    "})\n",
    "\n",
    "df_new.to_excel('merged_countries_cities_data.xlsx', index=False)"
   ]
  },
  {
   "cell_type": "markdown",
   "metadata": {},
   "source": [
    "### The merge gives me a master sheet where it shows which cities are in which countries. This sheet (to me) is ideal for visualisation on either Tableau or PowerBi, reason being by having a master sheet with all details, I can freely manipulate and extract only the data that I need in this one master sheet. For example:\n",
    "1. Which capital has the highest population/gdp? (Normalise GDP by population, gdp per capita)\n",
    "2. Which country has the highest gdp (aggregration)\n",
    "3. For each country, does the capital has the highest number of population?\n",
    "4. Birth_rate and death_rate and migration_rate to population ratio\n",
    "\n",
    "### Machine learning wise:\n",
    "1. Does a bigger population lead to higher birth_rate and death_rate?\n",
    "2. Effects of birth_rate, death_rate and population and population_growth\n",
    "3. If size of population is affected by area, and if so how much does ratio of area_land and area_water affects this population. Is there a sweet spot?\n",
    "4. Does size of population affect GDP\n",
    "6. Identify clusters of countries with similar demographic and economic profile\n",
    "7. Analyze the relationship between GDP and the number of cities, potentially indicating economic diversification."
   ]
  },
  {
   "cell_type": "code",
   "execution_count": null,
   "metadata": {},
   "outputs": [],
   "source": []
  }
 ],
 "metadata": {
  "kernelspec": {
   "display_name": "base",
   "language": "python",
   "name": "python3"
  },
  "language_info": {
   "codemirror_mode": {
    "name": "ipython",
    "version": 3
   },
   "file_extension": ".py",
   "mimetype": "text/x-python",
   "name": "python",
   "nbconvert_exporter": "python",
   "pygments_lexer": "ipython3",
   "version": "3.12.7"
  }
 },
 "nbformat": 4,
 "nbformat_minor": 2
}
